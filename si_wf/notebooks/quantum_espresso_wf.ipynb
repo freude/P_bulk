{
 "cells": [
  {
   "cell_type": "code",
   "execution_count": 5,
   "metadata": {
    "collapsed": false
   },
   "outputs": [],
   "source": [
    "import matplotlib.pyplot as plt\n",
    "import numpy as np"
   ]
  },
  {
   "cell_type": "code",
   "execution_count": 6,
   "metadata": {
    "collapsed": true
   },
   "outputs": [],
   "source": [
    "from __future__ import division\n",
    "import numpy as np\n",
    "from scipy.spatial import cKDTree as KDTree\n",
    "    # http://docs.scipy.org/doc/scipy/reference/spatial.html\n",
    "\n",
    "__date__ = \"2010-11-09 Nov\"  # weights, doc\n",
    "\n",
    "#...............................................................................\n",
    "class Invdisttree:\n",
    "    \"\"\" inverse-distance-weighted interpolation using KDTree:\n",
    "invdisttree = Invdisttree( X, z )  -- data points, values\n",
    "interpol = invdisttree( q, nnear=3, eps=0, p=1, weights=None, stat=0 )\n",
    "    interpolates z from the 3 points nearest each query point q;\n",
    "    For example, interpol[ a query point q ]\n",
    "    finds the 3 data points nearest q, at distances d1 d2 d3\n",
    "    and returns the IDW average of the values z1 z2 z3\n",
    "        (z1/d1 + z2/d2 + z3/d3)\n",
    "        / (1/d1 + 1/d2 + 1/d3)\n",
    "        = .55 z1 + .27 z2 + .18 z3  for distances 1 2 3\n",
    "    q may be one point, or a batch of points.\n",
    "    eps: approximate nearest, dist <= (1 + eps) * true nearest\n",
    "    p: use 1 / distance**p\n",
    "    weights: optional multipliers for 1 / distance**p, of the same shape as q\n",
    "    stat: accumulate wsum, wn for average weights\n",
    "How many nearest neighbors should one take ?\n",
    "a) start with 8 11 14 .. 28 in 2d 3d 4d .. 10d; see Wendel's formula\n",
    "b) make 3 runs with nnear= e.g. 6 8 10, and look at the results --\n",
    "    |interpol 6 - interpol 8| etc., or |f - interpol*| if you have f(q).\n",
    "    I find that runtimes don't increase much at all with nnear -- ymmv.\n",
    "p=1, p=2 ?\n",
    "    p=2 weights nearer points more, farther points less.\n",
    "    In 2d, the circles around query points have areas ~ distance**2,\n",
    "    so p=2 is inverse-area weighting. For example,\n",
    "        (z1/area1 + z2/area2 + z3/area3)\n",
    "        / (1/area1 + 1/area2 + 1/area3)\n",
    "        = .74 z1 + .18 z2 + .08 z3  for distances 1 2 3\n",
    "    Similarly, in 3d, p=3 is inverse-volume weighting.\n",
    "Scaling:\n",
    "    if different X coordinates measure different things, Euclidean distance\n",
    "    can be way off.  For example, if X0 is in the range 0 to 1\n",
    "    but X1 0 to 1000, the X1 distances will swamp X0;\n",
    "    rescale the data, i.e. make X0.std() ~= X1.std() .\n",
    "A nice property of IDW is that it's scale-free around query points:\n",
    "if I have values z1 z2 z3 from 3 points at distances d1 d2 d3,\n",
    "the IDW average\n",
    "    (z1/d1 + z2/d2 + z3/d3)\n",
    "    / (1/d1 + 1/d2 + 1/d3)\n",
    "is the same for distances 1 2 3, or 10 20 30 -- only the ratios matter.\n",
    "In contrast, the commonly-used Gaussian kernel exp( - (distance/h)**2 )\n",
    "is exceedingly sensitive to distance and to h.\n",
    "    \"\"\"\n",
    "# anykernel( dj / av dj ) is also scale-free\n",
    "# error analysis, |f(x) - idw(x)| ? todo: regular grid, nnear ndim+1, 2*ndim\n",
    "\n",
    "    def __init__( self, X, z, leafsize=10, stat=0 ):\n",
    "        assert len(X) == len(z), \"len(X) %d != len(z) %d\" % (len(X), len(z))\n",
    "        self.tree = KDTree( X, leafsize=leafsize )  # build the tree\n",
    "        self.z = z\n",
    "        self.stat = stat\n",
    "        self.wn = 0\n",
    "        self.wsum = None;\n",
    "\n",
    "    def __call__( self, q, nnear=6, eps=0, p=1, weights=None ):\n",
    "            # nnear nearest neighbours of each query point --\n",
    "        q = np.asarray(q)\n",
    "        qdim = q.ndim\n",
    "        if qdim == 1:\n",
    "            q = np.array([q])\n",
    "        if self.wsum is None:\n",
    "            self.wsum = np.zeros(nnear)\n",
    "\n",
    "        self.distances, self.ix = self.tree.query( q, k=nnear, eps=eps )\n",
    "        interpol = np.zeros( (len(self.distances),) + np.shape(self.z[0]) )\n",
    "        jinterpol = 0\n",
    "        for dist, ix in zip( self.distances, self.ix ):\n",
    "            if nnear == 1:\n",
    "                wz = self.z[ix]\n",
    "            elif dist[0] < 1e-10:\n",
    "                wz = self.z[ix[0]]\n",
    "            else:  # weight z s by 1/dist --\n",
    "                w = 1 / dist**p\n",
    "                if weights is not None:\n",
    "                    w *= weights[ix]  # >= 0\n",
    "                w /= np.sum(w)\n",
    "                wz = np.dot( w, self.z[ix] )\n",
    "                if self.stat:\n",
    "                    self.wn += 1\n",
    "                    self.wsum += w\n",
    "            interpol[jinterpol] = wz\n",
    "            jinterpol += 1\n",
    "        return interpol if qdim > 1  else interpol[0]\n"
   ]
  },
  {
   "cell_type": "code",
   "execution_count": 7,
   "metadata": {
    "collapsed": true
   },
   "outputs": [],
   "source": [
    "def  transform_to_uc1(wf1,L):\n",
    "\n",
    "    a0=0.5431\n",
    "    T=wf1.shape[0]\n",
    "\n",
    "    mu=3 # number of primitive cells considered to form unit cell\n",
    "    xx = np.linspace(0,mu,T*mu+1)-1\n",
    "    xx=xx[0:-1]\n",
    "    x1, y1, z1 = np.meshgrid(xx,xx,xx)\n",
    "\n",
    "    wf=np.zeros((mu*T,mu*T,mu*T))\n",
    "\n",
    "    for j1 in xrange(mu):\n",
    "        for j2 in xrange(mu):\n",
    "            for j3 in xrange(mu):\n",
    "                wf[j1*T:((j1+1)*T),j2*T:((j2+1)*T),j3*T:((j3+1)*T)] = wf1\n",
    "\n",
    "\n",
    "    x=(y1+z1)*0.5*a0\n",
    "    y=(x1+z1)*0.5*a0\n",
    "    z=(x1+y1)*0.5*a0\n",
    "\n",
    "    F = Invdisttree(np.vstack((x.flatten(), y.flatten(), z.flatten())).T, wf.flatten())\n",
    "\n",
    "\n",
    "    lin = np.linspace(0,a0,L+1)\n",
    "    lin = lin[0:-1]\n",
    "\n",
    "    x1 ,y1, z1 = np.meshgrid(lin, lin, lin)\n",
    "\n",
    "    #% the origin is placed between nodes\n",
    "    #% x1=x1-0.5*a0/L;\n",
    "    #% y1=y1-0.5*a0/L;\n",
    "    #% z1=z1-0.5*a0/L;\n",
    "\n",
    "    wf = F(np.vstack((x1.flatten(), y1.flatten(), z1.flatten())).T,nnear=11, eps=0, p=1)\n",
    "    return wf.reshape(x1.shape)"
   ]
  },
  {
   "cell_type": "code",
   "execution_count": 8,
   "metadata": {
    "collapsed": true
   },
   "outputs": [],
   "source": [
    "def transform_to_uc(wf1, L):\n",
    "    \"\"\"\n",
    "    The function converts a wave functions computed on a grid in a primitive cell to\n",
    "    the wave functions specified on a user-defined grid in a unit cell.\n",
    "\n",
    "    :param wf1:  3D real-space wave function computed by ABINIT for a primitive cell\n",
    "    :param L:    number of points along each of dimenssions\n",
    "    :return:     3D real-space wave function computed by ABINIT for a unit cell\n",
    "    \"\"\"\n",
    "\n",
    "    a0 = 0.5431\n",
    "    num_points = wf1.shape[0]       # number of points along each of dimenssions in wf1 array\n",
    "    num_cells = 3                   # number of primitive cells needed to form unit cell\n",
    "\n",
    "    xx = np.linspace(0, num_cells, num_points*num_cells, endpoint=False) - 1.0\n",
    "    x1, y1, z1 = np.meshgrid(xx,xx,xx, indexing = 'ij')\n",
    "\n",
    "    wf=np.zeros((num_cells*num_points, num_cells*num_points, num_cells*num_points))\n",
    "\n",
    "    for j1 in xrange(num_cells):\n",
    "        for j2 in xrange(num_cells):\n",
    "            for j3 in xrange(num_cells):\n",
    "\n",
    "                wf[j1*num_points:((j1+1)*num_points),\n",
    "                   j2*num_points:((j2+1)*num_points),\n",
    "                   j3*num_points:((j3+1)*num_points)] = wf1\n",
    "\n",
    "    x = (y1 + z1) * 0.5 * a0\n",
    "    y = (x1 + z1) * 0.5 * a0\n",
    "    z = (x1 + y1) * 0.5 * a0\n",
    "\n",
    "    F = Invdisttree(np.vstack((x.flatten(), y.flatten(), z.flatten())).T, wf.flatten().T)\n",
    "\n",
    "    lin = np.linspace(0, a0, L, endpoint=False)\n",
    "\n",
    "    x1 ,y1, z1 = np.meshgrid(lin, lin, lin, indexing = 'xy')\n",
    "\n",
    "    wf = F(np.vstack((x1.flatten(), y1.flatten(), z1.flatten())).T, nnear=11, eps=0, p=1)\n",
    "\n",
    "    return wf.reshape(x1.shape)"
   ]
  },
  {
   "cell_type": "code",
   "execution_count": 9,
   "metadata": {
    "collapsed": true
   },
   "outputs": [],
   "source": [
    "-"
   ]
  },
  {
   "cell_type": "code",
   "execution_count": 10,
   "metadata": {
    "collapsed": false
   },
   "outputs": [],
   "source": [
    "def translate(cube, n_times):\n",
    "    for j in xrange(n_times):\n",
    "        cube = np.concatenate((cube, cube), axis=0)\n",
    "        cube = np.concatenate((cube, cube), axis=1)\n",
    "        cube = np.concatenate((cube, cube), axis=2)\n",
    "    return cube\n",
    "    "
   ]
  },
  {
   "cell_type": "code",
   "execution_count": 11,
   "metadata": {
    "collapsed": false
   },
   "outputs": [
    {
     "data": {
      "image/png": "[encoded data removed]",
      "text/plain": [
       "<matplotlib.figure.Figure at 0x7f90a1746510>"
      ]
     },
     "metadata": {},
     "output_type": "display_data"
    }
   ],
   "source": [
    "data2d_X = read_cube('/home/mk/qe_si/results/silicon.wf_K001_B005.cube')\n",
    "data2d_X=transform_to_uc(data2d_X, 30)\n",
    "data2d_X = translate(data2d_X, 1)\n",
    "data2d_Y = read_cube('/home/mk/qe_si/results/silicon.wf_K003_B005.cube')\n",
    "data2d_Y=transform_to_uc(data2d_Y, 30)\n",
    "data2d_Y = translate(data2d_Y, 1)\n",
    "data2d_Z = read_cube('/home/mk/qe_si/results/silicon.wf_K005_B005.cube')\n",
    "data2d_Z=transform_to_uc(data2d_Z, 30)\n",
    "data2d_Z = translate(data2d_Z, 1)\n",
    "f, ((ax1, ax2, ax3), (ax4, ax5, ax6), (ax7, ax8, ax9)) = plt.subplots(3, 3)\n",
    "ax1.imshow(data2d_X[15,:,:], cmap='jet')\n",
    "ax2.imshow(data2d_X[:,15,:], cmap='jet')\n",
    "ax3.imshow(data2d_X[:,:,15], cmap='jet')\n",
    "ax4.imshow(data2d_Y[15,:,:], cmap='jet')\n",
    "ax5.imshow(data2d_Y[:,15,:], cmap='jet')\n",
    "ax6.imshow(data2d_Y[:,:,15], cmap='jet')\n",
    "ax7.imshow(data2d_Z[15,:,:], cmap='jet')\n",
    "ax8.imshow(data2d_Z[:,15,:], cmap='jet')\n",
    "ax9.imshow(data2d_Z[:,:,15], cmap='jet')\n",
    "plt.show()"
   ]
  },
  {
   "cell_type": "code",
   "execution_count": null,
   "metadata": {
    "collapsed": true
   },
   "outputs": [],
   "source": []
  }
 ],
 "metadata": {
  "anaconda-cloud": {},
  "kernelspec": {
   "display_name": "Python 2",
   "language": "python",
   "name": "python2"
  },
  "language_info": {
   "codemirror_mode": {
    "name": "ipython",
    "version": 2
   },
   "file_extension": ".py",
   "mimetype": "text/x-python",
   "name": "python",
   "nbconvert_exporter": "python",
   "pygments_lexer": "ipython2",
   "version": "2.7.13"
  }
 },
 "nbformat": 4,
 "nbformat_minor": 1
}
